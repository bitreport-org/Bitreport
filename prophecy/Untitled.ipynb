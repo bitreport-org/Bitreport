{
 "cells": [
  {
   "cell_type": "code",
   "execution_count": 2,
   "metadata": {},
   "outputs": [
    {
     "name": "stderr",
     "output_type": "stream",
     "text": [
      "Using TensorFlow backend.\n"
     ]
    }
   ],
   "source": [
    "from keras.utils import plot_model\n",
    "import prophet as ph"
   ]
  },
  {
   "cell_type": "code",
   "execution_count": 3,
   "metadata": {},
   "outputs": [],
   "source": [
    "plot_model(ph.prophet1(), to_file='ph1.png', show_shapes=True)\n",
    "plot_model(ph.prophet2(), to_file='ph2.png', show_shapes=True)"
   ]
  },
  {
   "cell_type": "code",
   "execution_count": 137,
   "metadata": {},
   "outputs": [],
   "source": [
    "import requests\n",
    "def bitfinex(tf, pair, limit=1000):\n",
    "    url = 'https://api.bitfinex.com/v2/candles/trade:{}:t{}/hist?limit={}'.format(tf, pair, limit)\n",
    "    request = requests.get(url)\n",
    "    response = request.json()\n",
    "    points = []\n",
    "    if isinstance(response, list) and response[0] != 'error':\n",
    "        count = 0 \n",
    "        for row in response:  \n",
    "            json_body = {\n",
    "                        \"open\": float(row[1]),\n",
    "                        \"close\": float(row[2]),\n",
    "                        \"high\": float(row[3]),\n",
    "                        \"low\": float(row[4]),\n",
    "                        \"volume\": float(row[5]),\n",
    "                        }\n",
    "            points.append(json_body)\n",
    "    \n",
    "    return points"
   ]
  },
  {
   "cell_type": "code",
   "execution_count": 138,
   "metadata": {},
   "outputs": [],
   "source": [
    "data = bitfinex('1h', 'BTCUSD')"
   ]
  },
  {
   "cell_type": "code",
   "execution_count": 139,
   "metadata": {},
   "outputs": [],
   "source": [
    "import pandas as pd\n",
    "import numpy as np"
   ]
  },
  {
   "cell_type": "code",
   "execution_count": 140,
   "metadata": {},
   "outputs": [],
   "source": [
    "df = pd.DataFrame(data)"
   ]
  },
  {
   "cell_type": "code",
   "execution_count": 141,
   "metadata": {},
   "outputs": [
    {
     "data": {
      "text/plain": [
       "(1000, 5)"
      ]
     },
     "execution_count": 141,
     "metadata": {},
     "output_type": "execute_result"
    }
   ],
   "source": [
    "df.shape"
   ]
  },
  {
   "cell_type": "code",
   "execution_count": 33,
   "metadata": {},
   "outputs": [],
   "source": [
    "def make_samples(data, length=40):\n",
    "    samples = [data[i:i+length+1] for i in range(len(data)) \\\n",
    "               if len(data[i:i+length+1])==length+1]\n",
    "    return samples\n"
   ]
  },
  {
   "cell_type": "code",
   "execution_count": 142,
   "metadata": {},
   "outputs": [],
   "source": [
    "samples = make_samples(data, 60)"
   ]
  },
  {
   "cell_type": "code",
   "execution_count": 143,
   "metadata": {},
   "outputs": [],
   "source": [
    "samples_close = [np.array([s['close'] for s in x]) for x in samples]"
   ]
  },
  {
   "cell_type": "code",
   "execution_count": 144,
   "metadata": {},
   "outputs": [],
   "source": [
    "sc = [(x-np.min(x))/(np.max(x)-np.min(x)) for x in samples_close]"
   ]
  },
  {
   "cell_type": "code",
   "execution_count": 174,
   "metadata": {},
   "outputs": [],
   "source": [
    "X = np.array([s[:-1].reshape(60,1) for s in sc])\n",
    "Y = np.array([s[-1] for s in sc])"
   ]
  },
  {
   "cell_type": "code",
   "execution_count": 175,
   "metadata": {},
   "outputs": [],
   "source": [
    "from sklearn.model_selection import train_test_split"
   ]
  },
  {
   "cell_type": "code",
   "execution_count": 176,
   "metadata": {},
   "outputs": [],
   "source": [
    "X_train, X_test, y_train, y_test = train_test_split(X, Y, test_size=0.2, random_state=42)"
   ]
  },
  {
   "cell_type": "code",
   "execution_count": 179,
   "metadata": {},
   "outputs": [],
   "source": [
    "model = ph.prophet1(ts_input_shape=60, lstm_size=32)"
   ]
  },
  {
   "cell_type": "code",
   "execution_count": 180,
   "metadata": {},
   "outputs": [
    {
     "name": "stdout",
     "output_type": "stream",
     "text": [
      "Train on 752 samples, validate on 188 samples\n",
      "Epoch 1/30\n",
      "752/752 [==============================] - 2s 3ms/step - loss: 0.3132 - val_loss: 0.1367\n",
      "Epoch 2/30\n",
      "752/752 [==============================] - 0s 376us/step - loss: 0.1036 - val_loss: 0.0688\n",
      "Epoch 3/30\n",
      "752/752 [==============================] - 0s 382us/step - loss: 0.0664 - val_loss: 0.0559\n",
      "Epoch 4/30\n",
      "752/752 [==============================] - 0s 390us/step - loss: 0.0598 - val_loss: 0.0529\n",
      "Epoch 5/30\n",
      "752/752 [==============================] - 0s 431us/step - loss: 0.0577 - val_loss: 0.0511\n",
      "Epoch 6/30\n",
      "752/752 [==============================] - 0s 390us/step - loss: 0.0561 - val_loss: 0.0496\n",
      "Epoch 7/30\n",
      "752/752 [==============================] - 0s 387us/step - loss: 0.0546 - val_loss: 0.0481\n",
      "Epoch 8/30\n",
      "752/752 [==============================] - 0s 411us/step - loss: 0.0532 - val_loss: 0.0469\n",
      "Epoch 9/30\n",
      "752/752 [==============================] - 0s 401us/step - loss: 0.0518 - val_loss: 0.0456\n",
      "Epoch 10/30\n",
      "752/752 [==============================] - 0s 381us/step - loss: 0.0504 - val_loss: 0.0443\n",
      "Epoch 11/30\n",
      "752/752 [==============================] - 0s 410us/step - loss: 0.0490 - val_loss: 0.0432\n",
      "Epoch 12/30\n",
      "752/752 [==============================] - 0s 401us/step - loss: 0.0478 - val_loss: 0.0420\n",
      "Epoch 13/30\n",
      "752/752 [==============================] - 0s 423us/step - loss: 0.0466 - val_loss: 0.0408\n",
      "Epoch 14/30\n",
      "752/752 [==============================] - 0s 382us/step - loss: 0.0454 - val_loss: 0.0398\n",
      "Epoch 15/30\n",
      "752/752 [==============================] - 0s 381us/step - loss: 0.0444 - val_loss: 0.0388\n",
      "Epoch 16/30\n",
      "752/752 [==============================] - 0s 392us/step - loss: 0.0433 - val_loss: 0.0379\n",
      "Epoch 17/30\n",
      "752/752 [==============================] - 0s 381us/step - loss: 0.0423 - val_loss: 0.0369\n",
      "Epoch 18/30\n",
      "752/752 [==============================] - 0s 389us/step - loss: 0.0413 - val_loss: 0.0360\n",
      "Epoch 19/30\n",
      "752/752 [==============================] - 0s 387us/step - loss: 0.0404 - val_loss: 0.0351\n",
      "Epoch 20/30\n",
      "752/752 [==============================] - 0s 391us/step - loss: 0.0396 - val_loss: 0.0343\n",
      "Epoch 21/30\n",
      "752/752 [==============================] - 0s 387us/step - loss: 0.0388 - val_loss: 0.0335\n",
      "Epoch 22/30\n",
      "752/752 [==============================] - 0s 391us/step - loss: 0.0380 - val_loss: 0.0327\n",
      "Epoch 23/30\n",
      "752/752 [==============================] - 0s 385us/step - loss: 0.0372 - val_loss: 0.0320\n",
      "Epoch 24/30\n",
      "752/752 [==============================] - 0s 390us/step - loss: 0.0365 - val_loss: 0.0313\n",
      "Epoch 25/30\n",
      "752/752 [==============================] - 0s 402us/step - loss: 0.0358 - val_loss: 0.0307\n",
      "Epoch 26/30\n",
      "752/752 [==============================] - 0s 376us/step - loss: 0.0353 - val_loss: 0.0301\n",
      "Epoch 27/30\n",
      "752/752 [==============================] - 0s 401us/step - loss: 0.0346 - val_loss: 0.0295\n",
      "Epoch 28/30\n",
      "752/752 [==============================] - 0s 406us/step - loss: 0.0341 - val_loss: 0.0290\n",
      "Epoch 29/30\n",
      "752/752 [==============================] - 0s 413us/step - loss: 0.0335 - val_loss: 0.0284\n",
      "Epoch 30/30\n",
      "752/752 [==============================] - 0s 372us/step - loss: 0.0331 - val_loss: 0.0280\n"
     ]
    }
   ],
   "source": [
    "results = model.fit(\n",
    " X_train, y_train,\n",
    " epochs= 30,\n",
    " batch_size = 200,\n",
    " validation_data = (X_test, y_test)\n",
    ")"
   ]
  },
  {
   "cell_type": "code",
   "execution_count": 188,
   "metadata": {},
   "outputs": [],
   "source": [
    "p = model.predict(np.array(X[-61:]))"
   ]
  },
  {
   "cell_type": "code",
   "execution_count": 189,
   "metadata": {},
   "outputs": [],
   "source": [
    "r = Y[-61:]"
   ]
  },
  {
   "cell_type": "code",
   "execution_count": null,
   "metadata": {},
   "outputs": [
    {
     "data": {
      "text/plain": [
       "[<matplotlib.lines.Line2D at 0x12a9d2b00>]"
      ]
     },
     "execution_count": 190,
     "metadata": {},
     "output_type": "execute_result"
    }
   ],
   "source": [
    "plt.plot([x[0] for x in p])"
   ]
  },
  {
   "cell_type": "code",
   "execution_count": 167,
   "metadata": {},
   "outputs": [],
   "source": [
    "import matplotlib.pyplot as plt"
   ]
  },
  {
   "cell_type": "code",
   "execution_count": null,
   "metadata": {},
   "outputs": [],
   "source": []
  }
 ],
 "metadata": {
  "kernelspec": {
   "display_name": "Python 3",
   "language": "python",
   "name": "python3"
  },
  "language_info": {
   "codemirror_mode": {
    "name": "ipython",
    "version": 3
   },
   "file_extension": ".py",
   "mimetype": "text/x-python",
   "name": "python",
   "nbconvert_exporter": "python",
   "pygments_lexer": "ipython3",
   "version": "3.6.5"
  }
 },
 "nbformat": 4,
 "nbformat_minor": 2
}
