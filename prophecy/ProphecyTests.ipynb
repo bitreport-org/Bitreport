{
 "cells": [
  {
   "cell_type": "code",
   "execution_count": 1,
   "metadata": {},
   "outputs": [],
   "source": [
    "import pandas as pd\n",
    "import numpy as np\n",
    "import time"
   ]
  },
  {
   "cell_type": "markdown",
   "metadata": {},
   "source": [
    "## Data generator"
   ]
  },
  {
   "cell_type": "code",
   "execution_count": 10,
   "metadata": {},
   "outputs": [],
   "source": [
    "import requests\n",
    "def bitfinex(tf, pair, start, end, limit=5000):\n",
    "    url = f'https://api.bitfinex.com/v2/candles/trade:{tf}:t{pair}/hist?&start={start}&end={end}'\n",
    "    request = requests.get(url)\n",
    "    response = request.json()\n",
    "    points = []\n",
    "    if isinstance(response, list) :\n",
    "        count = 0 \n",
    "        for row in response:  \n",
    "            json_body = {\n",
    "                        \"tstmp\": int(row[0]),\n",
    "                        \"open\": float(row[1]),\n",
    "                        \"close\": float(row[2]),\n",
    "                        \"high\": float(row[3]),\n",
    "                        \"low\": float(row[4]),\n",
    "                        \"volume\": float(row[5]),\n",
    "                        }\n",
    "            points.append(json_body)\n",
    "    print('Info:    ', end, response[-1])\n",
    "    return pd.DataFrame(points)"
   ]
  },
  {
   "cell_type": "code",
   "execution_count": null,
   "metadata": {},
   "outputs": [
    {
     "name": "stdout",
     "output_type": "stream",
     "text": [
      "Info:     1546300800000 [1546002000000, 3741, 3744.5678079, 3747.1, 3729.4, 603.39720963]\n",
      "Info:     1546000800000 [1545703200000, 3933.5, 3936.7, 3965.8, 3909.6, 730.78208323]\n",
      "Info:     1545700800000 [1545400800000, 4159.9, 4145.2, 4179.5, 4114.8, 2242.27458336]\n",
      "Info:     1545400800000 [1545102000000, 3629.4, 3670.6, 3684.4, 3627, 1184.62777255]\n"
     ]
    }
   ],
   "source": [
    "tfs = ['1h', '3h', '6h', '12h']\n",
    "pairs = ['NEOUSD', 'ETHUSD', 'LTCUSD']\n",
    "\n",
    "for p in ['BTCUSD']:\n",
    "    for t in tfs:\n",
    "        end = 1546300800\n",
    "        df = bitfinex(t, p, (end - 5000*60)*1000, (end)*1000)\n",
    "        time.sleep(3)\n",
    "        for i in range(1,300):\n",
    "            try:\n",
    "                tmp = bitfinex(t, p, (end - (i+1)*5000*60)*1000, (end - i*5000*60)*1000)\n",
    "                df = pd.concat([df, tmp], ignore_index=True)\n",
    "                time.sleep(7)\n",
    "            except:\n",
    "                pass\n",
    "        df = df.drop_duplicates()\n",
    "        df.to_pickle(f'{p}:{t}_full.pkl')"
   ]
  },
  {
   "cell_type": "markdown",
   "metadata": {},
   "source": [
    "## Helpers"
   ]
  },
  {
   "cell_type": "code",
   "execution_count": null,
   "metadata": {},
   "outputs": [],
   "source": []
  },
  {
   "cell_type": "code",
   "execution_count": 94,
   "metadata": {},
   "outputs": [],
   "source": [
    "def make_observations(df, size: int, future: int):\n",
    "    \"\"\"\n",
    "    Size is the number of candles used as a base for prophecy.\n",
    "    Future=n sets as y the n-th price value since last know price.\n",
    "    \"\"\"\n",
    "    assert future >0, 'Future must be >= 1'\n",
    "    assert df.shape[1] == 4, 'Wrong format'\n",
    "    assert df.shape[0] >= size+future+1, 'Not efficient number of records'\n",
    "    assert future < size, 'Well, keep future lower than size'\n",
    "    # determine how many records\n",
    "    imput_thr = int(np.floor(df.shape[0]/(size+1)))\n",
    "    df = df.iloc[:(size+1)*imput_thr, :] \n",
    "    df = df.values.reshape(imput_thr, size + 1, 4)\n",
    "    \n",
    "    output = []\n",
    "    for arr in df:\n",
    "        x, M, m = normalize_price(arr[:-1])\n",
    "        y = (arr[-1][future-1] - m)/(M-m)\n",
    "#         output.append([x.reshape(size, 4, 1), y, M, m])\n",
    "        output.append([x, y, M, m])\n",
    "    \n",
    "    df = pd.DataFrame(output, columns=['x', 'y', 'M', 'm'])\n",
    "    return df\n",
    "    \n",
    "\n",
    "def normalize_price(arr):\n",
    "    M = np.max(np.max(arr))\n",
    "    m = np.min(np.min(arr))\n",
    "    d = M - m\n",
    "    output = (arr - m)/d \n",
    "    return output, M , m\n",
    "\n",
    "def reverse_norm(arr: np.array, M, m):\n",
    "    d = M-m\n",
    "    arr = d * arr + m\n",
    "    return arr\n",
    "\n",
    "                "
   ]
  },
  {
   "cell_type": "markdown",
   "metadata": {},
   "source": [
    "## Import data"
   ]
  },
  {
   "cell_type": "code",
   "execution_count": 95,
   "metadata": {},
   "outputs": [
    {
     "data": {
      "text/html": [
       "<div>\n",
       "<style scoped>\n",
       "    .dataframe tbody tr th:only-of-type {\n",
       "        vertical-align: middle;\n",
       "    }\n",
       "\n",
       "    .dataframe tbody tr th {\n",
       "        vertical-align: top;\n",
       "    }\n",
       "\n",
       "    .dataframe thead th {\n",
       "        text-align: right;\n",
       "    }\n",
       "</style>\n",
       "<table border=\"1\" class=\"dataframe\">\n",
       "  <thead>\n",
       "    <tr style=\"text-align: right;\">\n",
       "      <th></th>\n",
       "      <th>x</th>\n",
       "      <th>y</th>\n",
       "      <th>M</th>\n",
       "      <th>m</th>\n",
       "    </tr>\n",
       "  </thead>\n",
       "  <tbody>\n",
       "    <tr>\n",
       "      <th>0</th>\n",
       "      <td>[[0.2607886904761901, 0.31752232142857084, 0.2...</td>\n",
       "      <td>0.805060</td>\n",
       "      <td>8.0576</td>\n",
       "      <td>7.5200</td>\n",
       "    </tr>\n",
       "    <tr>\n",
       "      <th>1</th>\n",
       "      <td>[[0.3056609500682954, 0.31446349977234866, 0.1...</td>\n",
       "      <td>0.440583</td>\n",
       "      <td>8.4591</td>\n",
       "      <td>7.8002</td>\n",
       "    </tr>\n",
       "    <tr>\n",
       "      <th>2</th>\n",
       "      <td>[[0.35602704593145146, 0.36721846584285356, 0....</td>\n",
       "      <td>0.186291</td>\n",
       "      <td>8.6488</td>\n",
       "      <td>7.7910</td>\n",
       "    </tr>\n",
       "    <tr>\n",
       "      <th>3</th>\n",
       "      <td>[[0.7675679863639882, 0.875184008677461, 0.752...</td>\n",
       "      <td>0.058461</td>\n",
       "      <td>8.4410</td>\n",
       "      <td>7.1503</td>\n",
       "    </tr>\n",
       "    <tr>\n",
       "      <th>4</th>\n",
       "      <td>[[0.32516194589101943, 0.5175917693382448, 0.2...</td>\n",
       "      <td>0.997968</td>\n",
       "      <td>7.7075</td>\n",
       "      <td>6.9202</td>\n",
       "    </tr>\n",
       "  </tbody>\n",
       "</table>\n",
       "</div>"
      ],
      "text/plain": [
       "                                                   x         y       M       m\n",
       "0  [[0.2607886904761901, 0.31752232142857084, 0.2...  0.805060  8.0576  7.5200\n",
       "1  [[0.3056609500682954, 0.31446349977234866, 0.1...  0.440583  8.4591  7.8002\n",
       "2  [[0.35602704593145146, 0.36721846584285356, 0....  0.186291  8.6488  7.7910\n",
       "3  [[0.7675679863639882, 0.875184008677461, 0.752...  0.058461  8.4410  7.1503\n",
       "4  [[0.32516194589101943, 0.5175917693382448, 0.2...  0.997968  7.7075  6.9202"
      ]
     },
     "execution_count": 95,
     "metadata": {},
     "output_type": "execute_result"
    }
   ],
   "source": [
    "size, future = 20, 1\n",
    "eth1 = pd.read_pickle('data/ETHUSD:1h_full.pkl')\n",
    "eth1 = make_observations(eth1.iloc[:, :4], size, future)\n",
    "eth1.head()"
   ]
  },
  {
   "cell_type": "code",
   "execution_count": 96,
   "metadata": {},
   "outputs": [
    {
     "data": {
      "text/html": [
       "<div>\n",
       "<style scoped>\n",
       "    .dataframe tbody tr th:only-of-type {\n",
       "        vertical-align: middle;\n",
       "    }\n",
       "\n",
       "    .dataframe tbody tr th {\n",
       "        vertical-align: top;\n",
       "    }\n",
       "\n",
       "    .dataframe thead th {\n",
       "        text-align: right;\n",
       "    }\n",
       "</style>\n",
       "<table border=\"1\" class=\"dataframe\">\n",
       "  <thead>\n",
       "    <tr style=\"text-align: right;\">\n",
       "      <th></th>\n",
       "      <th>x</th>\n",
       "      <th>y</th>\n",
       "      <th>M</th>\n",
       "      <th>m</th>\n",
       "    </tr>\n",
       "  </thead>\n",
       "  <tbody>\n",
       "    <tr>\n",
       "      <th>0</th>\n",
       "      <td>[[0.1603818615751784, 0.23627684964200435, 0.1...</td>\n",
       "      <td>0.426730</td>\n",
       "      <td>153.000000</td>\n",
       "      <td>132.05</td>\n",
       "    </tr>\n",
       "    <tr>\n",
       "      <th>1</th>\n",
       "      <td>[[0.7412027851261299, 0.9398555526687217, 0.64...</td>\n",
       "      <td>0.595307</td>\n",
       "      <td>147.006846</td>\n",
       "      <td>116.30</td>\n",
       "    </tr>\n",
       "    <tr>\n",
       "      <th>2</th>\n",
       "      <td>[[0.20969484717948733, 0.2707692307692308, 0.1...</td>\n",
       "      <td>0.659744</td>\n",
       "      <td>163.500000</td>\n",
       "      <td>124.50</td>\n",
       "    </tr>\n",
       "    <tr>\n",
       "      <th>3</th>\n",
       "      <td>[[0.9095570139458573, 1.0, 0.8904840032813781,...</td>\n",
       "      <td>0.069729</td>\n",
       "      <td>157.410000</td>\n",
       "      <td>108.65</td>\n",
       "    </tr>\n",
       "    <tr>\n",
       "      <th>4</th>\n",
       "      <td>[[0.781279397930386, 0.9294449670743179, 0.733...</td>\n",
       "      <td>0.246472</td>\n",
       "      <td>122.660000</td>\n",
       "      <td>101.40</td>\n",
       "    </tr>\n",
       "  </tbody>\n",
       "</table>\n",
       "</div>"
      ],
      "text/plain": [
       "                                                   x         y           M  \\\n",
       "0  [[0.1603818615751784, 0.23627684964200435, 0.1...  0.426730  153.000000   \n",
       "1  [[0.7412027851261299, 0.9398555526687217, 0.64...  0.595307  147.006846   \n",
       "2  [[0.20969484717948733, 0.2707692307692308, 0.1...  0.659744  163.500000   \n",
       "3  [[0.9095570139458573, 1.0, 0.8904840032813781,...  0.069729  157.410000   \n",
       "4  [[0.781279397930386, 0.9294449670743179, 0.733...  0.246472  122.660000   \n",
       "\n",
       "        m  \n",
       "0  132.05  \n",
       "1  116.30  \n",
       "2  124.50  \n",
       "3  108.65  \n",
       "4  101.40  "
      ]
     },
     "execution_count": 96,
     "metadata": {},
     "output_type": "execute_result"
    }
   ],
   "source": [
    "eth3 = pd.read_pickle('data/ETHUSD:3h_full.pkl')\n",
    "eth3 = make_observations(eth3.iloc[:, :4], size, future)\n",
    "eth3.head()"
   ]
  },
  {
   "cell_type": "code",
   "execution_count": 97,
   "metadata": {},
   "outputs": [
    {
     "data": {
      "text/html": [
       "<div>\n",
       "<style scoped>\n",
       "    .dataframe tbody tr th:only-of-type {\n",
       "        vertical-align: middle;\n",
       "    }\n",
       "\n",
       "    .dataframe tbody tr th {\n",
       "        vertical-align: top;\n",
       "    }\n",
       "\n",
       "    .dataframe thead th {\n",
       "        text-align: right;\n",
       "    }\n",
       "</style>\n",
       "<table border=\"1\" class=\"dataframe\">\n",
       "  <thead>\n",
       "    <tr style=\"text-align: right;\">\n",
       "      <th></th>\n",
       "      <th>x</th>\n",
       "      <th>y</th>\n",
       "      <th>M</th>\n",
       "      <th>m</th>\n",
       "    </tr>\n",
       "  </thead>\n",
       "  <tbody>\n",
       "    <tr>\n",
       "      <th>0</th>\n",
       "      <td>[[0.1603818615751784, 0.23627684964200435, 0.1...</td>\n",
       "      <td>0.426730</td>\n",
       "      <td>153.000000</td>\n",
       "      <td>132.05</td>\n",
       "    </tr>\n",
       "    <tr>\n",
       "      <th>1</th>\n",
       "      <td>[[0.7412027851261299, 0.9398555526687217, 0.64...</td>\n",
       "      <td>0.595307</td>\n",
       "      <td>147.006846</td>\n",
       "      <td>116.30</td>\n",
       "    </tr>\n",
       "    <tr>\n",
       "      <th>2</th>\n",
       "      <td>[[0.20969484717948733, 0.2707692307692308, 0.1...</td>\n",
       "      <td>0.659744</td>\n",
       "      <td>163.500000</td>\n",
       "      <td>124.50</td>\n",
       "    </tr>\n",
       "    <tr>\n",
       "      <th>3</th>\n",
       "      <td>[[0.9095570139458573, 1.0, 0.8904840032813781,...</td>\n",
       "      <td>0.069729</td>\n",
       "      <td>157.410000</td>\n",
       "      <td>108.65</td>\n",
       "    </tr>\n",
       "    <tr>\n",
       "      <th>4</th>\n",
       "      <td>[[0.781279397930386, 0.9294449670743179, 0.733...</td>\n",
       "      <td>0.246472</td>\n",
       "      <td>122.660000</td>\n",
       "      <td>101.40</td>\n",
       "    </tr>\n",
       "  </tbody>\n",
       "</table>\n",
       "</div>"
      ],
      "text/plain": [
       "                                                   x         y           M  \\\n",
       "0  [[0.1603818615751784, 0.23627684964200435, 0.1...  0.426730  153.000000   \n",
       "1  [[0.7412027851261299, 0.9398555526687217, 0.64...  0.595307  147.006846   \n",
       "2  [[0.20969484717948733, 0.2707692307692308, 0.1...  0.659744  163.500000   \n",
       "3  [[0.9095570139458573, 1.0, 0.8904840032813781,...  0.069729  157.410000   \n",
       "4  [[0.781279397930386, 0.9294449670743179, 0.733...  0.246472  122.660000   \n",
       "\n",
       "        m  \n",
       "0  132.05  \n",
       "1  116.30  \n",
       "2  124.50  \n",
       "3  108.65  \n",
       "4  101.40  "
      ]
     },
     "execution_count": 97,
     "metadata": {},
     "output_type": "execute_result"
    }
   ],
   "source": [
    "eth6 = pd.read_pickle('data/ETHUSD:3h_full.pkl')\n",
    "eth6 = make_observations(eth6.iloc[:, :4], size, future)\n",
    "eth6.head()"
   ]
  },
  {
   "cell_type": "code",
   "execution_count": 98,
   "metadata": {},
   "outputs": [],
   "source": [
    "df = pd.concat([eth1, eth3, eth6], ignore_index=True)"
   ]
  },
  {
   "cell_type": "code",
   "execution_count": 99,
   "metadata": {},
   "outputs": [],
   "source": [
    "df.to_pickle(f'data/ETHUSD_pro_s={size}_f={future}.pkl')"
   ]
  },
  {
   "cell_type": "markdown",
   "metadata": {},
   "source": [
    "## Models"
   ]
  },
  {
   "cell_type": "code",
   "execution_count": 4,
   "metadata": {},
   "outputs": [],
   "source": [
    "from sklearn.model_selection import train_test_split"
   ]
  },
  {
   "cell_type": "code",
   "execution_count": 100,
   "metadata": {},
   "outputs": [
    {
     "data": {
      "text/plain": [
       "(2690, 20, 4)"
      ]
     },
     "execution_count": 100,
     "metadata": {},
     "output_type": "execute_result"
    }
   ],
   "source": [
    "X_train, X_test, y_train, y_test = train_test_split(df.x.values, df.y.values, test_size=0, random_state=42)\n",
    "X_train = np.array([x for x in X_train])\n",
    "X_test = np.array([x for x in X_test])\n",
    "X_train.shape"
   ]
  },
  {
   "cell_type": "code",
   "execution_count": 101,
   "metadata": {},
   "outputs": [
    {
     "data": {
      "text/html": [
       "<div>\n",
       "<style scoped>\n",
       "    .dataframe tbody tr th:only-of-type {\n",
       "        vertical-align: middle;\n",
       "    }\n",
       "\n",
       "    .dataframe tbody tr th {\n",
       "        vertical-align: top;\n",
       "    }\n",
       "\n",
       "    .dataframe thead th {\n",
       "        text-align: right;\n",
       "    }\n",
       "</style>\n",
       "<table border=\"1\" class=\"dataframe\">\n",
       "  <thead>\n",
       "    <tr style=\"text-align: right;\">\n",
       "      <th></th>\n",
       "      <th>x</th>\n",
       "      <th>y</th>\n",
       "      <th>M</th>\n",
       "      <th>m</th>\n",
       "    </tr>\n",
       "  </thead>\n",
       "  <tbody>\n",
       "    <tr>\n",
       "      <th>0</th>\n",
       "      <td>[[0.2607886904761901, 0.31752232142857084, 0.2...</td>\n",
       "      <td>0.805060</td>\n",
       "      <td>8.0576</td>\n",
       "      <td>7.5200</td>\n",
       "    </tr>\n",
       "    <tr>\n",
       "      <th>1</th>\n",
       "      <td>[[0.3056609500682954, 0.31446349977234866, 0.1...</td>\n",
       "      <td>0.440583</td>\n",
       "      <td>8.4591</td>\n",
       "      <td>7.8002</td>\n",
       "    </tr>\n",
       "    <tr>\n",
       "      <th>2</th>\n",
       "      <td>[[0.35602704593145146, 0.36721846584285356, 0....</td>\n",
       "      <td>0.186291</td>\n",
       "      <td>8.6488</td>\n",
       "      <td>7.7910</td>\n",
       "    </tr>\n",
       "    <tr>\n",
       "      <th>3</th>\n",
       "      <td>[[0.7675679863639882, 0.875184008677461, 0.752...</td>\n",
       "      <td>0.058461</td>\n",
       "      <td>8.4410</td>\n",
       "      <td>7.1503</td>\n",
       "    </tr>\n",
       "    <tr>\n",
       "      <th>4</th>\n",
       "      <td>[[0.32516194589101943, 0.5175917693382448, 0.2...</td>\n",
       "      <td>0.997968</td>\n",
       "      <td>7.7075</td>\n",
       "      <td>6.9202</td>\n",
       "    </tr>\n",
       "  </tbody>\n",
       "</table>\n",
       "</div>"
      ],
      "text/plain": [
       "                                                   x         y       M       m\n",
       "0  [[0.2607886904761901, 0.31752232142857084, 0.2...  0.805060  8.0576  7.5200\n",
       "1  [[0.3056609500682954, 0.31446349977234866, 0.1...  0.440583  8.4591  7.8002\n",
       "2  [[0.35602704593145146, 0.36721846584285356, 0....  0.186291  8.6488  7.7910\n",
       "3  [[0.7675679863639882, 0.875184008677461, 0.752...  0.058461  8.4410  7.1503\n",
       "4  [[0.32516194589101943, 0.5175917693382448, 0.2...  0.997968  7.7075  6.9202"
      ]
     },
     "execution_count": 101,
     "metadata": {},
     "output_type": "execute_result"
    }
   ],
   "source": [
    "size, future = 20, 1\n",
    "val = pd.read_pickle('data/NEOUSD:6h_full.pkl')\n",
    "val = make_observations(val.iloc[:, :4], size, future)\n",
    "val.head()"
   ]
  },
  {
   "cell_type": "code",
   "execution_count": 102,
   "metadata": {},
   "outputs": [
    {
     "data": {
      "text/plain": [
       "(766, 20, 4)"
      ]
     },
     "execution_count": 102,
     "metadata": {},
     "output_type": "execute_result"
    }
   ],
   "source": [
    "X_test = val.x.values\n",
    "y_test = val.y.values\n",
    "X_test = np.array([x for x in X_test])\n",
    "X_test.shape"
   ]
  },
  {
   "cell_type": "code",
   "execution_count": 103,
   "metadata": {},
   "outputs": [],
   "source": [
    "from keras.models import Model\n",
    "from keras.layers import Dense, Embedding, Dropout, Activation, Concatenate, Input, LSTM, CuDNNLSTM, concatenate, Reshape\n",
    "from livelossplot.keras import PlotLossesCallback\n",
    "\n",
    "def OHLC_prophecy(ts_input_shape,\n",
    "                lstm_size = 32,\n",
    "                lstm_dense = 32,\n",
    "                size_dense=64,\n",
    "                num_dense=2,\n",
    "                p_loss='mean_squared_error',\n",
    "                p_optimizer='adam',\n",
    "                use_gpu_specifics=False):\n",
    "    \"\"\"\n",
    "    Uses OHLC input\n",
    "    \"\"\"\n",
    "\n",
    "    # Declare inputs\n",
    "    net_input = Input(shape=(ts_input_shape, 4))\n",
    "    \n",
    "    # Build the ts_part of the network\n",
    "    if use_gpu_specifics:\n",
    "        lstm_out = CuDNNLSTM(lstm_size)(net_input)\n",
    "    else:\n",
    "        lstm_out= LSTM(lstm_size)(net_input)\n",
    "\n",
    "    # Denses\n",
    "    dense_out = Dense(size_dense)(lstm_out)\n",
    "    for _ in range(num_dense):\n",
    "        dense_out = Dense(size_dense)(dense_out)\n",
    "\n",
    "    # Output dense\n",
    "    output = Dense(1, activation='linear')(dense_out)\n",
    "    \n",
    "    model = Model(inputs=net_input, outputs=output)\n",
    "    model.compile(loss=p_loss, optimizer=p_optimizer)\n",
    "\n",
    "    return model"
   ]
  },
  {
   "cell_type": "code",
   "execution_count": 104,
   "metadata": {},
   "outputs": [],
   "source": [
    "model = OHLC_prophecy(ts_input_shape=X_train[0].shape[0], \n",
    "                    lstm_size=200, \n",
    "                    num_dense=12,\n",
    "                   )"
   ]
  },
  {
   "cell_type": "code",
   "execution_count": 105,
   "metadata": {},
   "outputs": [
    {
     "data": {
      "image/png": "[encoded data removed]",
      "text/plain": [
       "<Figure size 864x576 with 1 Axes>"
      ]
     },
     "metadata": {},
     "output_type": "display_data"
    },
    {
     "name": "stdout",
     "output_type": "stream",
     "text": [
      "Mean squared error (cost function):\n",
      "training   (min:    0.003, max:    0.120, cur:    0.003)\n",
      "validation (min:    0.001, max:    0.041, cur:    0.002)\n"
     ]
    },
    {
     "data": {
      "text/plain": [
       "<keras.callbacks.History at 0x13a3f8a20>"
      ]
     },
     "execution_count": 105,
     "metadata": {},
     "output_type": "execute_result"
    }
   ],
   "source": [
    "model.fit(\n",
    "    X_train, y_train,\n",
    "    epochs= 15,\n",
    "    batch_size = 256,\n",
    "    validation_data=(X_test, y_test),\n",
    "    callbacks=[PlotLossesCallback()]\n",
    ")"
   ]
  },
  {
   "cell_type": "code",
   "execution_count": 212,
   "metadata": {},
   "outputs": [],
   "source": [
    "model.save('models/size20future1_110219.h5')"
   ]
  },
  {
   "cell_type": "markdown",
   "metadata": {},
   "source": [
    "## Plots / tests"
   ]
  },
  {
   "cell_type": "code",
   "execution_count": 199,
   "metadata": {},
   "outputs": [],
   "source": [
    "from matplotlib import pyplot as plt\n",
    "\n",
    "class portfolio:\n",
    "    def __init__(self, start_amount, model, fee=0.04):\n",
    "        self.start_amount = start_amount\n",
    "        self.budget = start_amount # dolars\n",
    "        self.coins = 0\n",
    "        self.fee = fee\n",
    "        self.model = model\n",
    "        self.history = []\n",
    "        \n",
    "    def process(self, window: pd.DataFrame):\n",
    "        M = np.max(np.max(window))\n",
    "        m = np.min(np.min(window))\n",
    "        d = M - m\n",
    "        output = (window - m)/d \n",
    "        return output, M , m\n",
    "\n",
    "    def reshape(self, window: pd.DataFrame, size):\n",
    "        return window.values.reshape(size, 4)\n",
    "\n",
    "    def rescale(self, predicted_price, M, m):\n",
    "        return  (M-m) * predicted_price + m\n",
    "    \n",
    "    def buy(self, price):\n",
    "        self.coins = self.budget/price * (1-self.fee)\n",
    "        self.market = self.coins * price\n",
    "        self.budget = 0\n",
    "    \n",
    "    def sell(self, price):\n",
    "        self.budget = self.coins * price *(1-self.fee)\n",
    "        self.market = self.budget\n",
    "        self.coins = 0\n",
    "        \n",
    "    def decide(self, price, prediction, epoch):\n",
    "        if prediction >= price and self.coins==0:\n",
    "            predicted_market_value = (self.budget/price * (1-self.fee)) * prediction\n",
    "            if predicted_market_value >= self.market:\n",
    "                self.buy(price)\n",
    "                print(f'Epoch: {epoch} : BUY - actual: {price} predicted: {prediction}')\n",
    "                self.history.append(('buy', price, prediction, self.coins, self.budget))\n",
    "            \n",
    "        if prediction < price and self.coins!=0:\n",
    "#             predicted_market_value = self.coins * price * (1-self.fee)\n",
    "#             if predicted_market_value >= self.market:\n",
    "            self.sell(price)\n",
    "            print(f'Epoch: {epoch} : SELL - actual: {price} predicted: {prediction}')\n",
    "            self.history.append(('sell', price, prediction, self.coins, self.budget))\n",
    "            \n",
    "    def simulate(self, df: pd.DataFrame, size):\n",
    "        # TODO: assert smth ! !\n",
    "        y, y_hat = [], []\n",
    "        self.epochs = df.shape[0]-size\n",
    "        for i in range(self.epochs):\n",
    "            window = df.iloc[i:i+size, :]\n",
    "            recent_price = window.close.values[-1]\n",
    "            \n",
    "            if i==0: \n",
    "                self.buy(recent_price)\n",
    "#                 print(f'First transaction - coins: {self.coins}, budget: {self.budget}')\n",
    "\n",
    "            output, M, m = self.process(window)\n",
    "            output = self.reshape(output, size)\n",
    "\n",
    "            predicted_price = self.model.predict([[output]])[0][0]\n",
    "            predicted_price = self.rescale(predicted_price, M, m)\n",
    "            y.append(recent_price)\n",
    "            y_hat.append(predicted_price)\n",
    "            self.decide(recent_price, predicted_price, epoch=i)\n",
    "#             print(f'Present status - coins: {self.coins}, budget: {self.budget}')\n",
    "        \n",
    "        # make last trade\n",
    "        if self.coins != 0:\n",
    "            self.sell(recent_price)\n",
    "#             print(f'Last transaction - coins: {self.coins}, budget: {self.budget}')\n",
    "    \n",
    "        #  For plots\n",
    "        self.y = y[1:]\n",
    "        self.y_hat = y_hat\n",
    "        \n",
    "        self.summary()\n",
    "    \n",
    "    def summary(self):\n",
    "        print('Portfolio summary')\n",
    "        print(f'Transaction fee: {self.fee}')\n",
    "        print(f'Start amount: {self.start_amount}')\n",
    "        print(f'Final amount: {self.budget}')\n",
    "        print(f'Earnings : {(self.budget - self.start_amount):.2f}')\n",
    "        print(f'Profit : {100*(self.budget/self.start_amount -1):.2f}%')\n",
    "        print(f'Decision points: {self.epochs}')\n",
    "        print(f\"Decisions made : {len(self.history)}, buy: {len([x for x in self.history if x[0]=='buy'])} sell: {len([x for x in self.history if x[0]=='buy'])}\")\n",
    "    \n",
    "    def plot_history(self):\n",
    "        coins = [x[3] for x in self.history if x[3]!=0]\n",
    "        plt.plot(coins)\n",
    "        plt.title('Coins history')\n",
    "        plt.show()\n",
    "        \n",
    "        budget = [x[4] for x in self.history if x[4]!=0]\n",
    "        plt.plot(budget)\n",
    "        plt.title('Budget history')\n",
    "        plt.show()\n",
    "        \n",
    "        "
   ]
  },
  {
   "cell_type": "code",
   "execution_count": 196,
   "metadata": {},
   "outputs": [],
   "source": [
    "sample = pd.read_pickle('data/NEOUSD:6h_full.pkl')"
   ]
  },
  {
   "cell_type": "code",
   "execution_count": 215,
   "metadata": {},
   "outputs": [],
   "source": [
    "port = portfolio(1000, model, fee=0.004)"
   ]
  },
  {
   "cell_type": "code",
   "execution_count": 216,
   "metadata": {
    "scrolled": false
   },
   "outputs": [
    {
     "name": "stdout",
     "output_type": "stream",
     "text": [
      "Epoch: 0 : SELL - actual: 7.944 predicted: 7.925968362426758\n",
      "Epoch: 3 : BUY - actual: 7.8923 predicted: 8.086582725989818\n",
      "Epoch: 5 : SELL - actual: 8.3545 predicted: 8.298089570003748\n",
      "Epoch: 17 : BUY - actual: 8.2561 predicted: 8.296151679301262\n",
      "Epoch: 19 : SELL - actual: 8.38983104 predicted: 8.38534643495083\n",
      "Epoch: 29 : BUY - actual: 8.0077 predicted: 8.0740732301116\n",
      "Epoch: 32 : SELL - actual: 8.43035993 predicted: 8.013845235916973\n",
      "Epoch: 37 : BUY - actual: 7.881 predicted: 8.06714507868886\n",
      "Epoch: 39 : SELL - actual: 8.161 predicted: 8.030509048885108\n",
      "Epoch: 43 : BUY - actual: 7.9508 predicted: 8.096093474715948\n",
      "Epoch: 46 : SELL - actual: 8.2707 predicted: 8.18288032476306\n",
      "Epoch: 53 : BUY - actual: 8.112 predicted: 8.187551067906618\n",
      "Epoch: 54 : SELL - actual: 8.2013 predicted: 8.009332189974188\n",
      "Epoch: 55 : BUY - actual: 8.0128 predicted: 8.122705983495711\n",
      "Epoch: 57 : SELL - actual: 8.2674 predicted: 8.210998999726772\n",
      "Epoch: 65 : BUY - actual: 7.1762 predicted: 7.272886741557717\n",
      "Epoch: 66 : SELL - actual: 7.3 predicted: 7.228588495716453\n",
      "Epoch: 73 : BUY - actual: 6.9317 predicted: 6.992700937888772\n",
      "Epoch: 75 : SELL - actual: 7.0673 predicted: 7.001945618784428\n",
      "Epoch: 76 : BUY - actual: 7.0 predicted: 7.113409273958206\n",
      "Epoch: 77 : SELL - actual: 7.1407 predicted: 7.078527681779862\n",
      "Epoch: 79 : BUY - actual: 7.0484 predicted: 7.134442137554288\n",
      "Epoch: 80 : SELL - actual: 7.1645 predicted: 7.1040143413528805\n",
      "Epoch: 82 : BUY - actual: 7.1081 predicted: 7.551725487041473\n",
      "Epoch: 85 : SELL - actual: 7.7059 predicted: 7.645125757099705\n",
      "Epoch: 96 : BUY - actual: 7.6124 predicted: 7.691823162639142\n",
      "Epoch: 97 : SELL - actual: 7.727 predicted: 7.689336072438955\n",
      "Epoch: 100 : BUY - actual: 7.8339 predicted: 7.932213031291961\n",
      "Epoch: 101 : SELL - actual: 7.9852 predicted: 7.94187431526184\n",
      "Epoch: 105 : BUY - actual: 7.83078971 predicted: 7.897120968163013\n",
      "Epoch: 106 : SELL - actual: 7.9081 predicted: 7.746780810773373\n",
      "Epoch: 111 : BUY - actual: 7.4475 predicted: 7.688957841220498\n",
      "Epoch: 113 : SELL - actual: 7.74 predicted: 7.686585228216648\n",
      "Epoch: 116 : BUY - actual: 7.5815 predicted: 7.682852675157785\n",
      "Epoch: 120 : SELL - actual: 8.0643 predicted: 8.032282660049201\n",
      "Epoch: 121 : BUY - actual: 8.0806 predicted: 8.143370981758833\n",
      "Epoch: 122 : SELL - actual: 8.2045 predicted: 8.184927809721232\n",
      "Epoch: 127 : BUY - actual: 7.761 predicted: 7.843073640722036\n",
      "Epoch: 128 : SELL - actual: 7.8621 predicted: 7.80860310202539\n",
      "Epoch: 132 : BUY - actual: 7.406 predicted: 7.460928023698926\n",
      "Epoch: 133 : SELL - actual: 7.4777 predicted: 7.435191655495763\n",
      "Epoch: 134 : BUY - actual: 7.4402 predicted: 7.53847252175808\n",
      "Epoch: 135 : SELL - actual: 7.5673 predicted: 7.557283064231276\n",
      "Epoch: 139 : BUY - actual: 7.525 predicted: 7.681447241806984\n",
      "Epoch: 140 : SELL - actual: 7.7051 predicted: 7.494812502075732\n",
      "Epoch: 146 : BUY - actual: 7.4391 predicted: 7.816278304340709\n",
      "Epoch: 147 : SELL - actual: 7.8672 predicted: 7.796422884449475\n",
      "Epoch: 149 : BUY - actual: 7.7499 predicted: 8.46688968912363\n",
      "Epoch: 151 : SELL - actual: 8.6573 predicted: 8.565120734393597\n",
      "Epoch: 154 : BUY - actual: 8.4733 predicted: 8.524674431365728\n",
      "Epoch: 156 : SELL - actual: 8.9512 predicted: 8.683444048333168\n",
      "Epoch: 158 : BUY - actual: 8.675 predicted: 8.904581114673615\n",
      "Epoch: 159 : SELL - actual: 8.9795 predicted: 8.716417036271094\n",
      "Epoch: 163 : BUY - actual: 8.6347 predicted: 8.84674656676054\n",
      "Epoch: 164 : SELL - actual: 8.9409 predicted: 8.643750817072391\n",
      "Epoch: 167 : BUY - actual: 8.6775 predicted: 8.738510144108533\n",
      "Epoch: 168 : SELL - actual: 8.7844 predicted: 8.77291295261979\n",
      "Epoch: 169 : BUY - actual: 8.8089 predicted: 8.924853336334229\n",
      "Epoch: 170 : SELL - actual: 8.93 predicted: 8.745857120895385\n",
      "Epoch: 178 : BUY - actual: 7.8983 predicted: 7.934674224315584\n",
      "Epoch: 179 : SELL - actual: 7.967 predicted: 7.82992694517672\n",
      "Portfolio summary\n",
      "Transaction fee: 0.004\n",
      "Start amount: 1000\n",
      "Final amount: 2001.6254798198934\n",
      "Earnings : 1001.63\n",
      "Profit : 100.16%\n",
      "Decision points: 180\n",
      "Decisions made : 61, buy: 30 sell: 30\n"
     ]
    }
   ],
   "source": [
    "port.simulate(sample.iloc[:200, :4], 20)"
   ]
  },
  {
   "cell_type": "code",
   "execution_count": 214,
   "metadata": {},
   "outputs": [
    {
     "data": {
      "image/png": "[encoded data removed]",
      "text/plain": [
       "<Figure size 432x288 with 1 Axes>"
      ]
     },
     "metadata": {},
     "output_type": "display_data"
    }
   ],
   "source": [
    "plt.plot(port.y)\n",
    "plt.plot(port.y_hat, color='orange')\n",
    "plt.show()"
   ]
  },
  {
   "cell_type": "code",
   "execution_count": 176,
   "metadata": {},
   "outputs": [
    {
     "data": {
      "image/png": "[encoded data removed]",
      "text/plain": [
       "<Figure size 432x288 with 1 Axes>"
      ]
     },
     "metadata": {},
     "output_type": "display_data"
    },
    {
     "data": {
      "image/png": "[encoded data removed]",
      "text/plain": [
       "<Figure size 432x288 with 1 Axes>"
      ]
     },
     "metadata": {},
     "output_type": "display_data"
    }
   ],
   "source": [
    "port.plot_history()"
   ]
  },
  {
   "cell_type": "code",
   "execution_count": null,
   "metadata": {},
   "outputs": [],
   "source": []
  }
 ],
 "metadata": {
  "kernelspec": {
   "display_name": "Python 3",
   "language": "python",
   "name": "python3"
  },
  "language_info": {
   "codemirror_mode": {
    "name": "ipython",
    "version": 3
   },
   "file_extension": ".py",
   "mimetype": "text/x-python",
   "name": "python",
   "nbconvert_exporter": "python",
   "pygments_lexer": "ipython3",
   "version": "3.6.5"
  }
 },
 "nbformat": 4,
 "nbformat_minor": 2
}
