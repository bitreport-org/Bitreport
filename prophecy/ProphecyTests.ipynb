{
 "cells": [
  {
   "cell_type": "code",
   "execution_count": 1,
   "metadata": {},
   "outputs": [],
   "source": [
    "import pandas as pd\n",
    "import numpy as np\n",
    "import time"
   ]
  },
  {
   "cell_type": "markdown",
   "metadata": {},
   "source": [
    "## Data generator"
   ]
  },
  {
   "cell_type": "code",
   "execution_count": 10,
   "metadata": {},
   "outputs": [],
   "source": [
    "import requests\n",
    "def bitfinex(tf, pair, start, end, limit=5000):\n",
    "    url = f'https://api.bitfinex.com/v2/candles/trade:{tf}:t{pair}/hist?&start={start}&end={end}'\n",
    "    request = requests.get(url)\n",
    "    response = request.json()\n",
    "    points = []\n",
    "    if isinstance(response, list) :\n",
    "        count = 0 \n",
    "        for row in response:  \n",
    "            json_body = {\n",
    "                        \"tstmp\": int(row[0]),\n",
    "                        \"open\": float(row[1]),\n",
    "                        \"close\": float(row[2]),\n",
    "                        \"high\": float(row[3]),\n",
    "                        \"low\": float(row[4]),\n",
    "                        \"volume\": float(row[5]),\n",
    "                        }\n",
    "            points.append(json_body)\n",
    "    print('Info:    ', end, response[-1])\n",
    "    return pd.DataFrame(points)"
   ]
  },
  {
   "cell_type": "code",
   "execution_count": null,
   "metadata": {},
   "outputs": [
    {
     "name": "stdout",
     "output_type": "stream",
     "text": [
      "Info:     1546300800000 [1546002000000, 3741, 3744.5678079, 3747.1, 3729.4, 603.39720963]\n",
      "Info:     1546000800000 [1545703200000, 3933.5, 3936.7, 3965.8, 3909.6, 730.78208323]\n",
      "Info:     1545700800000 [1545400800000, 4159.9, 4145.2, 4179.5, 4114.8, 2242.27458336]\n",
      "Info:     1545400800000 [1545102000000, 3629.4, 3670.6, 3684.4, 3627, 1184.62777255]\n"
     ]
    }
   ],
   "source": [
    "tfs = ['1h', '3h', '6h', '12h']\n",
    "pairs = ['NEOUSD', 'ETHUSD', 'LTCUSD']\n",
    "\n",
    "for p in ['BTCUSD']:\n",
    "    for t in tfs:\n",
    "        end = 1546300800\n",
    "        df = bitfinex(t, p, (end - 5000*60)*1000, (end)*1000)\n",
    "        time.sleep(3)\n",
    "        for i in range(1,300):\n",
    "            try:\n",
    "                tmp = bitfinex(t, p, (end - (i+1)*5000*60)*1000, (end - i*5000*60)*1000)\n",
    "                df = pd.concat([df, tmp], ignore_index=True)\n",
    "                time.sleep(7)\n",
    "            except:\n",
    "                pass\n",
    "        df = df.drop_duplicates()\n",
    "        df.to_pickle(f'{p}:{t}_full.pkl')"
   ]
  },
  {
   "cell_type": "markdown",
   "metadata": {},
   "source": [
    "## Helpers"
   ]
  },
  {
   "cell_type": "code",
   "execution_count": null,
   "metadata": {},
   "outputs": [],
   "source": []
  },
  {
   "cell_type": "code",
   "execution_count": 94,
   "metadata": {},
   "outputs": [],
   "source": [
    "def make_observations(df, size: int, future: int):\n",
    "    \"\"\"\n",
    "    Size is the number of candles used as a base for prophecy.\n",
    "    Future=n sets as y the n-th price value since last know price.\n",
    "    \"\"\"\n",
    "    assert future >0, 'Future must be >= 1'\n",
    "    assert df.shape[1] == 4, 'Wrong format'\n",
    "    assert df.shape[0] >= size+future+1, 'Not efficient number of records'\n",
    "    assert future < size, 'Well, keep future lower than size'\n",
    "    # determine how many records\n",
    "    imput_thr = int(np.floor(df.shape[0]/(size+1)))\n",
    "    df = df.iloc[:(size+1)*imput_thr, :] \n",
    "    df = df.values.reshape(imput_thr, size + 1, 4)\n",
    "    \n",
    "    output = []\n",
    "    for arr in df:\n",
    "        x, M, m = normalize_price(arr[:-1])\n",
    "        y = (arr[-1][future-1] - m)/(M-m)\n",
    "#         output.append([x.reshape(size, 4, 1), y, M, m])\n",
    "        output.append([x, y, M, m])\n",
    "    \n",
    "    df = pd.DataFrame(output, columns=['x', 'y', 'M', 'm'])\n",
    "    return df\n",
    "    \n",
    "\n",
    "def normalize_price(arr):\n",
    "    M = np.max(np.max(arr))\n",
    "    m = np.min(np.min(arr))\n",
    "    d = M - m\n",
    "    output = (arr - m)/d \n",
    "    return output, M , m\n",
    "\n",
    "def reverse_norm(arr: np.array, M, m):\n",
    "    d = M-m\n",
    "    arr = d * arr + m\n",
    "    return arr\n",
    "\n",
    "                "
   ]
  },
  {
   "cell_type": "markdown",
   "metadata": {},
   "source": [
    "## Import data"
   ]
  },
  {
   "cell_type": "code",
   "execution_count": 95,
   "metadata": {},
   "outputs": [
    {
     "data": {
      "text/html": [
       "<div>\n",
       "<style scoped>\n",
       "    .dataframe tbody tr th:only-of-type {\n",
       "        vertical-align: middle;\n",
       "    }\n",
       "\n",
       "    .dataframe tbody tr th {\n",
       "        vertical-align: top;\n",
       "    }\n",
       "\n",
       "    .dataframe thead th {\n",
       "        text-align: right;\n",
       "    }\n",
       "</style>\n",
       "<table border=\"1\" class=\"dataframe\">\n",
       "  <thead>\n",
       "    <tr style=\"text-align: right;\">\n",
       "      <th></th>\n",
       "      <th>x</th>\n",
       "      <th>y</th>\n",
       "      <th>M</th>\n",
       "      <th>m</th>\n",
       "    </tr>\n",
       "  </thead>\n",
       "  <tbody>\n",
       "    <tr>\n",
       "      <th>0</th>\n",
       "      <td>[[0.2607886904761901, 0.31752232142857084, 0.2...</td>\n",
       "      <td>0.805060</td>\n",
       "      <td>8.0576</td>\n",
       "      <td>7.5200</td>\n",
       "    </tr>\n",
       "    <tr>\n",
       "      <th>1</th>\n",
       "      <td>[[0.3056609500682954, 0.31446349977234866, 0.1...</td>\n",
       "      <td>0.440583</td>\n",
       "      <td>8.4591</td>\n",
       "      <td>7.8002</td>\n",
       "    </tr>\n",
       "    <tr>\n",
       "      <th>2</th>\n",
       "      <td>[[0.35602704593145146, 0.36721846584285356, 0....</td>\n",
       "      <td>0.186291</td>\n",
       "      <td>8.6488</td>\n",
       "      <td>7.7910</td>\n",
       "    </tr>\n",
       "    <tr>\n",
       "      <th>3</th>\n",
       "      <td>[[0.7675679863639882, 0.875184008677461, 0.752...</td>\n",
       "      <td>0.058461</td>\n",
       "      <td>8.4410</td>\n",
       "      <td>7.1503</td>\n",
       "    </tr>\n",
       "    <tr>\n",
       "      <th>4</th>\n",
       "      <td>[[0.32516194589101943, 0.5175917693382448, 0.2...</td>\n",
       "      <td>0.997968</td>\n",
       "      <td>7.7075</td>\n",
       "      <td>6.9202</td>\n",
       "    </tr>\n",
       "  </tbody>\n",
       "</table>\n",
       "</div>"
      ],
      "text/plain": [
       "                                                   x         y       M       m\n",
       "0  [[0.2607886904761901, 0.31752232142857084, 0.2...  0.805060  8.0576  7.5200\n",
       "1  [[0.3056609500682954, 0.31446349977234866, 0.1...  0.440583  8.4591  7.8002\n",
       "2  [[0.35602704593145146, 0.36721846584285356, 0....  0.186291  8.6488  7.7910\n",
       "3  [[0.7675679863639882, 0.875184008677461, 0.752...  0.058461  8.4410  7.1503\n",
       "4  [[0.32516194589101943, 0.5175917693382448, 0.2...  0.997968  7.7075  6.9202"
      ]
     },
     "execution_count": 95,
     "metadata": {},
     "output_type": "execute_result"
    }
   ],
   "source": [
    "size, future = 20, 1\n",
    "eth1 = pd.read_pickle('data/ETHUSD:1h_full.pkl')\n",
    "eth1 = make_observations(eth1.iloc[:, :4], size, future)\n",
    "eth1.head()"
   ]
  },
  {
   "cell_type": "code",
   "execution_count": 96,
   "metadata": {},
   "outputs": [
    {
     "data": {
      "text/html": [
       "<div>\n",
       "<style scoped>\n",
       "    .dataframe tbody tr th:only-of-type {\n",
       "        vertical-align: middle;\n",
       "    }\n",
       "\n",
       "    .dataframe tbody tr th {\n",
       "        vertical-align: top;\n",
       "    }\n",
       "\n",
       "    .dataframe thead th {\n",
       "        text-align: right;\n",
       "    }\n",
       "</style>\n",
       "<table border=\"1\" class=\"dataframe\">\n",
       "  <thead>\n",
       "    <tr style=\"text-align: right;\">\n",
       "      <th></th>\n",
       "      <th>x</th>\n",
       "      <th>y</th>\n",
       "      <th>M</th>\n",
       "      <th>m</th>\n",
       "    </tr>\n",
       "  </thead>\n",
       "  <tbody>\n",
       "    <tr>\n",
       "      <th>0</th>\n",
       "      <td>[[0.1603818615751784, 0.23627684964200435, 0.1...</td>\n",
       "      <td>0.426730</td>\n",
       "      <td>153.000000</td>\n",
       "      <td>132.05</td>\n",
       "    </tr>\n",
       "    <tr>\n",
       "      <th>1</th>\n",
       "      <td>[[0.7412027851261299, 0.9398555526687217, 0.64...</td>\n",
       "      <td>0.595307</td>\n",
       "      <td>147.006846</td>\n",
       "      <td>116.30</td>\n",
       "    </tr>\n",
       "    <tr>\n",
       "      <th>2</th>\n",
       "      <td>[[0.20969484717948733, 0.2707692307692308, 0.1...</td>\n",
       "      <td>0.659744</td>\n",
       "      <td>163.500000</td>\n",
       "      <td>124.50</td>\n",
       "    </tr>\n",
       "    <tr>\n",
       "      <th>3</th>\n",
       "      <td>[[0.9095570139458573, 1.0, 0.8904840032813781,...</td>\n",
       "      <td>0.069729</td>\n",
       "      <td>157.410000</td>\n",
       "      <td>108.65</td>\n",
       "    </tr>\n",
       "    <tr>\n",
       "      <th>4</th>\n",
       "      <td>[[0.781279397930386, 0.9294449670743179, 0.733...</td>\n",
       "      <td>0.246472</td>\n",
       "      <td>122.660000</td>\n",
       "      <td>101.40</td>\n",
       "    </tr>\n",
       "  </tbody>\n",
       "</table>\n",
       "</div>"
      ],
      "text/plain": [
       "                                                   x         y           M  \\\n",
       "0  [[0.1603818615751784, 0.23627684964200435, 0.1...  0.426730  153.000000   \n",
       "1  [[0.7412027851261299, 0.9398555526687217, 0.64...  0.595307  147.006846   \n",
       "2  [[0.20969484717948733, 0.2707692307692308, 0.1...  0.659744  163.500000   \n",
       "3  [[0.9095570139458573, 1.0, 0.8904840032813781,...  0.069729  157.410000   \n",
       "4  [[0.781279397930386, 0.9294449670743179, 0.733...  0.246472  122.660000   \n",
       "\n",
       "        m  \n",
       "0  132.05  \n",
       "1  116.30  \n",
       "2  124.50  \n",
       "3  108.65  \n",
       "4  101.40  "
      ]
     },
     "execution_count": 96,
     "metadata": {},
     "output_type": "execute_result"
    }
   ],
   "source": [
    "eth3 = pd.read_pickle('data/ETHUSD:3h_full.pkl')\n",
    "eth3 = make_observations(eth3.iloc[:, :4], size, future)\n",
    "eth3.head()"
   ]
  },
  {
   "cell_type": "code",
   "execution_count": 97,
   "metadata": {},
   "outputs": [
    {
     "data": {
      "text/html": [
       "<div>\n",
       "<style scoped>\n",
       "    .dataframe tbody tr th:only-of-type {\n",
       "        vertical-align: middle;\n",
       "    }\n",
       "\n",
       "    .dataframe tbody tr th {\n",
       "        vertical-align: top;\n",
       "    }\n",
       "\n",
       "    .dataframe thead th {\n",
       "        text-align: right;\n",
       "    }\n",
       "</style>\n",
       "<table border=\"1\" class=\"dataframe\">\n",
       "  <thead>\n",
       "    <tr style=\"text-align: right;\">\n",
       "      <th></th>\n",
       "      <th>x</th>\n",
       "      <th>y</th>\n",
       "      <th>M</th>\n",
       "      <th>m</th>\n",
       "    </tr>\n",
       "  </thead>\n",
       "  <tbody>\n",
       "    <tr>\n",
       "      <th>0</th>\n",
       "      <td>[[0.1603818615751784, 0.23627684964200435, 0.1...</td>\n",
       "      <td>0.426730</td>\n",
       "      <td>153.000000</td>\n",
       "      <td>132.05</td>\n",
       "    </tr>\n",
       "    <tr>\n",
       "      <th>1</th>\n",
       "      <td>[[0.7412027851261299, 0.9398555526687217, 0.64...</td>\n",
       "      <td>0.595307</td>\n",
       "      <td>147.006846</td>\n",
       "      <td>116.30</td>\n",
       "    </tr>\n",
       "    <tr>\n",
       "      <th>2</th>\n",
       "      <td>[[0.20969484717948733, 0.2707692307692308, 0.1...</td>\n",
       "      <td>0.659744</td>\n",
       "      <td>163.500000</td>\n",
       "      <td>124.50</td>\n",
       "    </tr>\n",
       "    <tr>\n",
       "      <th>3</th>\n",
       "      <td>[[0.9095570139458573, 1.0, 0.8904840032813781,...</td>\n",
       "      <td>0.069729</td>\n",
       "      <td>157.410000</td>\n",
       "      <td>108.65</td>\n",
       "    </tr>\n",
       "    <tr>\n",
       "      <th>4</th>\n",
       "      <td>[[0.781279397930386, 0.9294449670743179, 0.733...</td>\n",
       "      <td>0.246472</td>\n",
       "      <td>122.660000</td>\n",
       "      <td>101.40</td>\n",
       "    </tr>\n",
       "  </tbody>\n",
       "</table>\n",
       "</div>"
      ],
      "text/plain": [
       "                                                   x         y           M  \\\n",
       "0  [[0.1603818615751784, 0.23627684964200435, 0.1...  0.426730  153.000000   \n",
       "1  [[0.7412027851261299, 0.9398555526687217, 0.64...  0.595307  147.006846   \n",
       "2  [[0.20969484717948733, 0.2707692307692308, 0.1...  0.659744  163.500000   \n",
       "3  [[0.9095570139458573, 1.0, 0.8904840032813781,...  0.069729  157.410000   \n",
       "4  [[0.781279397930386, 0.9294449670743179, 0.733...  0.246472  122.660000   \n",
       "\n",
       "        m  \n",
       "0  132.05  \n",
       "1  116.30  \n",
       "2  124.50  \n",
       "3  108.65  \n",
       "4  101.40  "
      ]
     },
     "execution_count": 97,
     "metadata": {},
     "output_type": "execute_result"
    }
   ],
   "source": [
    "eth6 = pd.read_pickle('data/ETHUSD:3h_full.pkl')\n",
    "eth6 = make_observations(eth6.iloc[:, :4], size, future)\n",
    "eth6.head()"
   ]
  },
  {
   "cell_type": "code",
   "execution_count": 98,
   "metadata": {},
   "outputs": [],
   "source": [
    "df = pd.concat([eth1, eth3, eth6], ignore_index=True)"
   ]
  },
  {
   "cell_type": "code",
   "execution_count": 99,
   "metadata": {},
   "outputs": [],
   "source": [
    "df.to_pickle(f'data/ETHUSD_pro_s={size}_f={future}.pkl')"
   ]
  },
  {
   "cell_type": "markdown",
   "metadata": {},
   "source": [
    "## Models"
   ]
  },
  {
   "cell_type": "code",
   "execution_count": 4,
   "metadata": {},
   "outputs": [],
   "source": [
    "from sklearn.model_selection import train_test_split"
   ]
  },
  {
   "cell_type": "code",
   "execution_count": 100,
   "metadata": {},
   "outputs": [
    {
     "data": {
      "text/plain": [
       "(2690, 20, 4)"
      ]
     },
     "execution_count": 100,
     "metadata": {},
     "output_type": "execute_result"
    }
   ],
   "source": [
    "X_train, X_test, y_train, y_test = train_test_split(df.x.values, df.y.values, test_size=0, random_state=42)\n",
    "X_train = np.array([x for x in X_train])\n",
    "X_test = np.array([x for x in X_test])\n",
    "X_train.shape"
   ]
  },
  {
   "cell_type": "code",
   "execution_count": 101,
   "metadata": {},
   "outputs": [
    {
     "data": {
      "text/html": [
       "<div>\n",
       "<style scoped>\n",
       "    .dataframe tbody tr th:only-of-type {\n",
       "        vertical-align: middle;\n",
       "    }\n",
       "\n",
       "    .dataframe tbody tr th {\n",
       "        vertical-align: top;\n",
       "    }\n",
       "\n",
       "    .dataframe thead th {\n",
       "        text-align: right;\n",
       "    }\n",
       "</style>\n",
       "<table border=\"1\" class=\"dataframe\">\n",
       "  <thead>\n",
       "    <tr style=\"text-align: right;\">\n",
       "      <th></th>\n",
       "      <th>x</th>\n",
       "      <th>y</th>\n",
       "      <th>M</th>\n",
       "      <th>m</th>\n",
       "    </tr>\n",
       "  </thead>\n",
       "  <tbody>\n",
       "    <tr>\n",
       "      <th>0</th>\n",
       "      <td>[[0.2607886904761901, 0.31752232142857084, 0.2...</td>\n",
       "      <td>0.805060</td>\n",
       "      <td>8.0576</td>\n",
       "      <td>7.5200</td>\n",
       "    </tr>\n",
       "    <tr>\n",
       "      <th>1</th>\n",
       "      <td>[[0.3056609500682954, 0.31446349977234866, 0.1...</td>\n",
       "      <td>0.440583</td>\n",
       "      <td>8.4591</td>\n",
       "      <td>7.8002</td>\n",
       "    </tr>\n",
       "    <tr>\n",
       "      <th>2</th>\n",
       "      <td>[[0.35602704593145146, 0.36721846584285356, 0....</td>\n",
       "      <td>0.186291</td>\n",
       "      <td>8.6488</td>\n",
       "      <td>7.7910</td>\n",
       "    </tr>\n",
       "    <tr>\n",
       "      <th>3</th>\n",
       "      <td>[[0.7675679863639882, 0.875184008677461, 0.752...</td>\n",
       "      <td>0.058461</td>\n",
       "      <td>8.4410</td>\n",
       "      <td>7.1503</td>\n",
       "    </tr>\n",
       "    <tr>\n",
       "      <th>4</th>\n",
       "      <td>[[0.32516194589101943, 0.5175917693382448, 0.2...</td>\n",
       "      <td>0.997968</td>\n",
       "      <td>7.7075</td>\n",
       "      <td>6.9202</td>\n",
       "    </tr>\n",
       "  </tbody>\n",
       "</table>\n",
       "</div>"
      ],
      "text/plain": [
       "                                                   x         y       M       m\n",
       "0  [[0.2607886904761901, 0.31752232142857084, 0.2...  0.805060  8.0576  7.5200\n",
       "1  [[0.3056609500682954, 0.31446349977234866, 0.1...  0.440583  8.4591  7.8002\n",
       "2  [[0.35602704593145146, 0.36721846584285356, 0....  0.186291  8.6488  7.7910\n",
       "3  [[0.7675679863639882, 0.875184008677461, 0.752...  0.058461  8.4410  7.1503\n",
       "4  [[0.32516194589101943, 0.5175917693382448, 0.2...  0.997968  7.7075  6.9202"
      ]
     },
     "execution_count": 101,
     "metadata": {},
     "output_type": "execute_result"
    }
   ],
   "source": [
    "size, future = 20, 1\n",
    "val = pd.read_pickle('data/NEOUSD:6h_full.pkl')\n",
    "val = make_observations(val.iloc[:, :4], size, future)\n",
    "val.head()"
   ]
  },
  {
   "cell_type": "code",
   "execution_count": 102,
   "metadata": {},
   "outputs": [
    {
     "data": {
      "text/plain": [
       "(766, 20, 4)"
      ]
     },
     "execution_count": 102,
     "metadata": {},
     "output_type": "execute_result"
    }
   ],
   "source": [
    "X_test = val.x.values\n",
    "y_test = val.y.values\n",
    "X_test = np.array([x for x in X_test])\n",
    "X_test.shape"
   ]
  },
  {
   "cell_type": "code",
   "execution_count": 103,
   "metadata": {},
   "outputs": [],
   "source": [
    "from keras.models import Model\n",
    "from keras.layers import Dense, Embedding, Dropout, Activation, Concatenate, Input, LSTM, CuDNNLSTM, concatenate, Reshape\n",
    "from livelossplot.keras import PlotLossesCallback\n",
    "\n",
    "def OHLC_prophecy(ts_input_shape,\n",
    "                lstm_size = 32,\n",
    "                lstm_dense = 32,\n",
    "                size_dense=64,\n",
    "                num_dense=2,\n",
    "                p_loss='mean_squared_error',\n",
    "                p_optimizer='adam',\n",
    "                use_gpu_specifics=False):\n",
    "    \"\"\"\n",
    "    Uses OHLC input\n",
    "    \"\"\"\n",
    "\n",
    "    # Declare inputs\n",
    "    net_input = Input(shape=(ts_input_shape, 4))\n",
    "    \n",
    "    # Build the ts_part of the network\n",
    "    if use_gpu_specifics:\n",
    "        lstm_out = CuDNNLSTM(lstm_size)(net_input)\n",
    "    else:\n",
    "        lstm_out= LSTM(lstm_size)(net_input)\n",
    "\n",
    "    # Denses\n",
    "    dense_out = Dense(size_dense)(lstm_out)\n",
    "    for _ in range(num_dense):\n",
    "        dense_out = Dense(size_dense)(dense_out)\n",
    "\n",
    "    # Output dense\n",
    "    output = Dense(1, activation='linear')(dense_out)\n",
    "    \n",
    "    model = Model(inputs=net_input, outputs=output)\n",
    "    model.compile(loss=p_loss, optimizer=p_optimizer)\n",
    "\n",
    "    return model"
   ]
  },
  {
   "cell_type": "code",
   "execution_count": 104,
   "metadata": {},
   "outputs": [],
   "source": [
    "model = OHLC_prophecy(ts_input_shape=X_train[0].shape[0], \n",
    "                    lstm_size=200, \n",
    "                    num_dense=12,\n",
    "                   )"
   ]
  },
  {
   "cell_type": "code",
   "execution_count": 105,
   "metadata": {},
   "outputs": [
    {
     "data": {
      "image/png": "[encoded data removed]",
      "text/plain": [
       "<Figure size 864x576 with 1 Axes>"
      ]
     },
     "metadata": {},
     "output_type": "display_data"
    },
    {
     "name": "stdout",
     "output_type": "stream",
     "text": [
      "Mean squared error (cost function):\n",
      "training   (min:    0.003, max:    0.120, cur:    0.003)\n",
      "validation (min:    0.001, max:    0.041, cur:    0.002)\n"
     ]
    },
    {
     "data": {
      "text/plain": [
       "<keras.callbacks.History at 0x13a3f8a20>"
      ]
     },
     "execution_count": 105,
     "metadata": {},
     "output_type": "execute_result"
    }
   ],
   "source": [
    "model.fit(\n",
    "    X_train, y_train,\n",
    "    epochs= 15,\n",
    "    batch_size = 256,\n",
    "    validation_data=(X_test, y_test),\n",
    "    callbacks=[PlotLossesCallback()]\n",
    ")"
   ]
  },
  {
   "cell_type": "code",
   "execution_count": 212,
   "metadata": {},
   "outputs": [],
   "source": [
    "model.save('models/size20future1_110219.h5')"
   ]
  },
  {
   "cell_type": "markdown",
   "metadata": {},
   "source": [
    "## Plots / tests"
   ]
  },
  {
   "cell_type": "code",
   "execution_count": null,
   "metadata": {},
   "outputs": [],
   "source": [
    "from matplotlib import pyplot as plt\n",
    "import pandas as pd\n",
    "import numpy as np\n",
    "\n",
    "class portfolio:\n",
    "    def __init__(self, start_amount: float, model, fee=0.04):\n",
    "        assert start_amount > 0, 'Want to play with no money?'\n",
    "        self.start_amount = start_amount\n",
    "        self.budget = start_amount  # dolars\n",
    "        self.coins = 0\n",
    "        self.fee = fee\n",
    "        self.model = model\n",
    "        self.history = []\n",
    "\n",
    "    def _process(self, window: pd.DataFrame):\n",
    "        M = np.max(np.max(window))\n",
    "        m = np.min(np.min(window))\n",
    "        d = M - m\n",
    "        output = (window - m) / d\n",
    "        return output, M, m\n",
    "\n",
    "    def _reshape(self, window: pd.DataFrame, size):\n",
    "        return window.values.reshape(size, 4)\n",
    "\n",
    "    def _rescale(self, predicted_price, M, m):\n",
    "        return (M - m) * predicted_price + m\n",
    "\n",
    "    def _buy(self, price):\n",
    "        self.coins = self.budget / price * (1 - self.fee)\n",
    "        self.budget = 0\n",
    "\n",
    "    def _sell(self, price):\n",
    "        self.budget = self.coins * price * (1 - self.fee)\n",
    "        self.coins = 0\n",
    "\n",
    "    def _decide(self, price, prediction, epoch):\n",
    "        if prediction >= price and self.coins == 0:\n",
    "            trade_cost = self.budget * self.fee\n",
    "            potential_profit = self.budget * (prediction - price)\n",
    "            if potential_profit > trade_cost:\n",
    "                self._buy(price)\n",
    "                print(f'Epoch: {epoch} : BUY - actual: {price} predicted: {prediction}')\n",
    "                self.history.append(('buy', price, prediction, self.coins, self.budget))\n",
    "\n",
    "        if prediction < price and self.coins != 0:\n",
    "            trade_cost = self.coins * price * self.fee\n",
    "            potentail_loss = self.coins * (price - prediction)\n",
    "            if potentail_loss > trade_cost:\n",
    "                self._sell(price)\n",
    "                print(f'Epoch: {epoch} : SELL - actual: {price} predicted: {prediction}')\n",
    "                self.history.append(('sell', price, prediction, self.coins, self.budget))\n",
    "\n",
    "    def simulate(self, df: pd.DataFrame, size):\n",
    "        # TODO: assert smth ! !\n",
    "        y, y_hat = [], []\n",
    "        self.epochs = df.shape[0] - size\n",
    "        for i in range(self.epochs):\n",
    "            window = df.iloc[i:i + size, :]\n",
    "            recent_price = window.close.values[-1]\n",
    "\n",
    "            if i == 0:\n",
    "                self._buy(recent_price)\n",
    "\n",
    "            output, M, m = self._process(window)\n",
    "            output = self._reshape(output, size)\n",
    "\n",
    "            predicted_price = self.model.predict([[output]])[0][0]\n",
    "            predicted_price = self._rescale(predicted_price, M, m)\n",
    "            y.append(recent_price)\n",
    "            y_hat.append(predicted_price)\n",
    "            self._decide(recent_price, predicted_price, epoch=i)\n",
    "\n",
    "        # make last trade\n",
    "        if self.coins != 0:\n",
    "            self._sell(recent_price)\n",
    "\n",
    "        #  For plots\n",
    "        self.y = y[1:]\n",
    "        self.y_hat = y_hat\n",
    "\n",
    "        self.summary()\n",
    "\n",
    "    def summary(self):\n",
    "        print('Portfolio summary')\n",
    "        print(f'Transaction fee: {self.fee}')\n",
    "        print(f'Start amount: {self.start_amount}')\n",
    "        print(f'Final amount: {self.budget}')\n",
    "        print(f'Earnings : {(self.budget - self.start_amount):.2f}')\n",
    "        print(f'Profit : {100*(self.budget/self.start_amount -1):.2f}%')\n",
    "        print(f'Decision points: {self.epochs}')\n",
    "        print( f\"Decisions made : {len(self.history)}, \\\n",
    "                buy: {len([x for x in self.history if x[0]=='buy'])} \\\n",
    "                sell: {len([x for x in self.history if x[0]=='sell'])}\")\n",
    "\n",
    "    def plot_history(self):\n",
    "        coins = [x[3] for x in self.history if x[3] != 0]\n",
    "        plt.plot(coins)\n",
    "        plt.title('Coins history')\n",
    "        plt.show()\n",
    "\n",
    "        budget = [x[4] for x in self.history if x[4] != 0]\n",
    "        plt.plot(budget)\n",
    "        plt.title('Budget history')\n",
    "        plt.show()\n",
    "\n",
    "    def plot_prediction(self):\n",
    "        plt.plot(self.y)\n",
    "        plt.plot(self.y_hat, color='orange')\n",
    "        plt.show()\n",
    "        \n",
    "        "
   ]
  },
  {
   "cell_type": "code",
   "execution_count": 223,
   "metadata": {},
   "outputs": [],
   "source": [
    "sample = pd.read_pickle('data/LTCUSD:1h_full.pkl')"
   ]
  },
  {
   "cell_type": "code",
   "execution_count": 224,
   "metadata": {},
   "outputs": [],
   "source": [
    "port = portfolio(1000, model, fee=0.004)"
   ]
  },
  {
   "cell_type": "code",
   "execution_count": 225,
   "metadata": {
    "scrolled": false
   },
   "outputs": [
    {
     "name": "stdout",
     "output_type": "stream",
     "text": [
      "Epoch: 0 : SELL - actual: 31.851 predicted: 31.74530413067341\n",
      "Epoch: 3 : BUY - actual: 31.698 predicted: 32.106429133534434\n",
      "Epoch: 6 : SELL - actual: 32.872 predicted: 32.63523001259565\n",
      "Epoch: 10 : BUY - actual: 32.391 predicted: 32.541478481054305\n",
      "Epoch: 11 : SELL - actual: 32.662 predicted: 32.44875229632854\n",
      "Epoch: 17 : BUY - actual: 32.513 predicted: 32.708369469046595\n",
      "Epoch: 19 : SELL - actual: 33.093 predicted: 32.752844212293624\n",
      "Epoch: 26 : BUY - actual: 31.978 predicted: 32.253285242080686\n",
      "Epoch: 27 : SELL - actual: 32.243 predicted: 32.04353844833374\n",
      "Epoch: 30 : BUY - actual: 31.9 predicted: 33.47047157287598\n",
      "Epoch: 32 : SELL - actual: 34.297 predicted: 32.879331744998694\n",
      "Epoch: 37 : BUY - actual: 32.416 predicted: 32.882452848553655\n",
      "Epoch: 38 : SELL - actual: 33.001 predicted: 32.89397803604603\n",
      "Epoch: 43 : BUY - actual: 32.611 predicted: 33.07594398921728\n",
      "Epoch: 45 : SELL - actual: 33.554 predicted: 33.54214927613735\n",
      "Epoch: 55 : BUY - actual: 32.771 predicted: 33.187743752896786\n",
      "Epoch: 57 : SELL - actual: 33.446 predicted: 33.337409264445306\n",
      "Epoch: 58 : BUY - actual: 33.428 predicted: 33.799364988803866\n",
      "Epoch: 59 : SELL - actual: 33.89 predicted: 33.22871410727501\n",
      "Epoch: 65 : BUY - actual: 29.91 predicted: 30.251108106166125\n",
      "Epoch: 66 : SELL - actual: 30.362 predicted: 29.727300830651075\n",
      "Epoch: 74 : BUY - actual: 28.742 predicted: 28.85908267635852\n",
      "Epoch: 75 : SELL - actual: 28.9 predicted: 28.726127722263335\n",
      "Epoch: 76 : BUY - actual: 28.705 predicted: 28.9164199395217\n",
      "Epoch: 77 : SELL - actual: 28.943 predicted: 28.77964471361786\n",
      "Epoch: 82 : BUY - actual: 28.703 predicted: 29.593783628523347\n",
      "Epoch: 85 : SELL - actual: 30.306 predicted: 30.082124389052392\n",
      "Epoch: 86 : BUY - actual: 30.183 predicted: 30.338286318182945\n",
      "Epoch: 88 : SELL - actual: 30.76 predicted: 30.449358777999876\n",
      "Epoch: 96 : BUY - actual: 30.375 predicted: 30.56987280368805\n",
      "Epoch: 97 : SELL - actual: 30.682 predicted: 30.53715668582916\n",
      "Epoch: 98 : BUY - actual: 30.581 predicted: 30.999761558294296\n",
      "Epoch: 99 : SELL - actual: 31.192 predicted: 30.8984008975029\n",
      "Epoch: 100 : BUY - actual: 31.064 predicted: 31.519671101093294\n",
      "Epoch: 101 : SELL - actual: 31.756 predicted: 31.296927178621292\n",
      "Epoch: 105 : BUY - actual: 30.778 predicted: 30.97974778267741\n",
      "Epoch: 106 : SELL - actual: 31.072 predicted: 30.62384142675996\n",
      "Epoch: 111 : BUY - actual: 30.097 predicted: 31.31102152788639\n",
      "Epoch: 113 : SELL - actual: 31.665 predicted: 31.23735792899132\n",
      "Epoch: 116 : BUY - actual: 31.128 predicted: 31.634345823407173\n",
      "Epoch: 120 : SELL - actual: 32.505 predicted: 32.37876133692264\n",
      "Epoch: 127 : BUY - actual: 31.585 predicted: 31.735381991147996\n",
      "Epoch: 129 : SELL - actual: 31.958 predicted: 31.46839964103699\n",
      "Epoch: 132 : BUY - actual: 31.094 predicted: 31.228915812671186\n",
      "Epoch: 133 : SELL - actual: 31.328 predicted: 30.948592354707422\n",
      "Epoch: 134 : BUY - actual: 30.925 predicted: 31.602975286394358\n",
      "Epoch: 135 : SELL - actual: 31.734 predicted: 31.64324513170123\n",
      "Epoch: 139 : BUY - actual: 31.58 predicted: 32.237198633790015\n",
      "Epoch: 140 : SELL - actual: 32.285 predicted: 31.518751103550194\n",
      "Epoch: 141 : BUY - actual: 31.464 predicted: 31.605838637262583\n",
      "Epoch: 142 : SELL - actual: 31.653 predicted: 31.54313095521927\n",
      "Epoch: 146 : BUY - actual: 30.991 predicted: 31.912402552843094\n",
      "Epoch: 147 : SELL - actual: 31.953 predicted: 31.775587495803833\n",
      "Epoch: 149 : BUY - actual: 31.768 predicted: 33.50097307497263\n",
      "Epoch: 151 : SELL - actual: 35.392 predicted: 34.87106437397003\n",
      "Epoch: 154 : BUY - actual: 34.107 predicted: 34.782316722273826\n",
      "Epoch: 156 : SELL - actual: 35.58 predicted: 35.386387476325034\n",
      "Epoch: 158 : BUY - actual: 35.447 predicted: 36.61060656911135\n",
      "Epoch: 159 : SELL - actual: 36.978 predicted: 35.84379917383194\n",
      "Epoch: 163 : BUY - actual: 35.791 predicted: 36.796685701489444\n",
      "Epoch: 164 : SELL - actual: 37.207 predicted: 36.754153129279615\n",
      "Epoch: 174 : BUY - actual: 34.124 predicted: 34.32705113575608\n",
      "Epoch: 175 : SELL - actual: 34.41 predicted: 34.342235886693004\n",
      "Epoch: 178 : BUY - actual: 34.363 predicted: 34.782546569257974\n",
      "Epoch: 179 : SELL - actual: 34.875 predicted: 34.12531111650169\n",
      "Epoch: 182 : BUY - actual: 33.425 predicted: 33.73350258255005\n",
      "Epoch: 184 : SELL - actual: 34.555 predicted: 34.301218647003175\n",
      "Epoch: 185 : BUY - actual: 34.315 predicted: 34.45775930595398\n",
      "Epoch: 186 : SELL - actual: 34.558 predicted: 34.29427658724785\n",
      "Epoch: 191 : BUY - actual: 33.598 predicted: 33.77064179968834\n",
      "Epoch: 192 : SELL - actual: 33.817 predicted: 33.72848029398918\n",
      "Epoch: 196 : BUY - actual: 33.287 predicted: 33.42679442235828\n",
      "Epoch: 197 : SELL - actual: 33.5 predicted: 32.813302503407\n",
      "Epoch: 209 : BUY - actual: 31.634 predicted: 31.95154038235545\n",
      "Epoch: 210 : SELL - actual: 32.054 predicted: 32.040377973675724\n",
      "Epoch: 211 : BUY - actual: 32.009 predicted: 32.27626410394907\n",
      "Epoch: 212 : SELL - actual: 32.337 predicted: 31.36392204621434\n",
      "Epoch: 217 : BUY - actual: 30.904 predicted: 31.055803847134115\n",
      "Epoch: 219 : SELL - actual: 31.414 predicted: 31.258747558325528\n",
      "Epoch: 220 : BUY - actual: 31.225 predicted: 31.40171045470238\n",
      "Epoch: 221 : SELL - actual: 31.447 predicted: 31.33327381554246\n",
      "Epoch: 223 : BUY - actual: 30.887 predicted: 31.169342219114306\n",
      "Epoch: 224 : SELL - actual: 31.152 predicted: 30.80643926422298\n",
      "Epoch: 225 : BUY - actual: 30.792 predicted: 31.023557591468094\n",
      "Epoch: 231 : SELL - actual: 32.792 predicted: 32.77369003421068\n",
      "Epoch: 233 : BUY - actual: 32.884 predicted: 33.028467834651465\n",
      "Epoch: 234 : SELL - actual: 33.172 predicted: 32.46357727509737\n",
      "Epoch: 236 : BUY - actual: 32.0 predicted: 32.2546623634696\n",
      "Epoch: 237 : SELL - actual: 32.406 predicted: 32.30723373419046\n",
      "Epoch: 242 : BUY - actual: 32.403 predicted: 32.601069310128686\n",
      "Epoch: 244 : SELL - actual: 33.793 predicted: 33.170574622035026\n",
      "Epoch: 249 : BUY - actual: 32.102 predicted: 32.95169372558594\n",
      "Epoch: 250 : SELL - actual: 33.141 predicted: 32.96957946777344\n",
      "Epoch: 252 : BUY - actual: 32.957 predicted: 33.44771583557129\n",
      "Epoch: 253 : SELL - actual: 33.542 predicted: 32.42191761761904\n",
      "Epoch: 256 : BUY - actual: 32.153 predicted: 32.757814756065606\n",
      "Epoch: 257 : SELL - actual: 32.961 predicted: 32.32776478853822\n",
      "Epoch: 264 : BUY - actual: 29.9 predicted: 30.178753819860518\n",
      "Epoch: 265 : SELL - actual: 30.242 predicted: 30.207317690677943\n",
      "Epoch: 272 : BUY - actual: 29.699 predicted: 30.516498713135718\n",
      "Epoch: 273 : SELL - actual: 30.693 predicted: 30.688644473791122\n",
      "Epoch: 274 : BUY - actual: 30.748 predicted: 31.012077331900596\n",
      "Epoch: 275 : SELL - actual: 31.034 predicted: 31.031882143557073\n",
      "Epoch: 279 : BUY - actual: 31.162 predicted: 31.482763454437254\n",
      "Epoch: 281 : SELL - actual: 31.581 predicted: 31.56046897625923\n",
      "Epoch: 284 : BUY - actual: 30.851 predicted: 31.098259143590926\n",
      "Epoch: 285 : SELL - actual: 31.206 predicted: 30.87526949942112\n",
      "Epoch: 289 : BUY - actual: 30.866 predicted: 31.195879610061645\n",
      "Epoch: 292 : SELL - actual: 32.077 predicted: 30.73000249016285\n",
      "Epoch: 293 : BUY - actual: 30.686 predicted: 30.840612729519606\n",
      "Epoch: 294 : SELL - actual: 30.968 predicted: 29.795581620288544\n",
      "Epoch: 297 : BUY - actual: 29.151 predicted: 29.407684831678868\n",
      "Epoch: 298 : SELL - actual: 29.475 predicted: 29.17553811520338\n",
      "Epoch: 299 : BUY - actual: 29.145 predicted: 29.599697387456892\n",
      "Epoch: 300 : SELL - actual: 29.703 predicted: 29.247156915456056\n",
      "Epoch: 302 : BUY - actual: 29.077 predicted: 29.88436049798131\n",
      "Epoch: 303 : SELL - actual: 30.069 predicted: 29.783171497225762\n",
      "Epoch: 309 : BUY - actual: 28.796 predicted: 29.35299879537523\n",
      "Epoch: 310 : SELL - actual: 29.478 predicted: 29.311451753020286\n",
      "Epoch: 312 : BUY - actual: 29.13 predicted: 29.79716649547219\n",
      "Epoch: 314 : SELL - actual: 30.504 predicted: 29.904758622288703\n",
      "Epoch: 319 : BUY - actual: 29.662 predicted: 29.808009748816488\n",
      "Epoch: 322 : SELL - actual: 30.878 predicted: 30.67464916610718\n",
      "Epoch: 326 : BUY - actual: 28.801 predicted: 29.067200903356074\n",
      "Epoch: 327 : SELL - actual: 29.214 predicted: 29.062254592180253\n",
      "Epoch: 328 : BUY - actual: 29.06 predicted: 29.258661981940268\n",
      "Epoch: 329 : SELL - actual: 29.299 predicted: 28.255489871632307\n",
      "Epoch: 343 : BUY - actual: 26.102 predicted: 26.300449940480295\n",
      "Epoch: 346 : SELL - actual: 26.717 predicted: 26.5856211784035\n",
      "Epoch: 348 : BUY - actual: 26.435 predicted: 26.85813940194249\n",
      "Epoch: 349 : SELL - actual: 26.988 predicted: 26.729079416096212\n",
      "Epoch: 351 : BUY - actual: 26.417 predicted: 26.677757692545654\n",
      "Epoch: 353 : SELL - actual: 26.91 predicted: 26.863004149466754\n"
     ]
    },
    {
     "name": "stdout",
     "output_type": "stream",
     "text": [
      "Epoch: 361 : BUY - actual: 26.393 predicted: 26.61856261393428\n",
      "Epoch: 362 : SELL - actual: 26.7 predicted: 26.531838554322718\n",
      "Epoch: 367 : BUY - actual: 24.224 predicted: 24.33304773787409\n",
      "Epoch: 368 : SELL - actual: 24.4 predicted: 24.216364063505083\n",
      "Epoch: 374 : BUY - actual: 23.665 predicted: 23.802149873115123\n",
      "Epoch: 375 : SELL - actual: 23.891 predicted: 23.780331957876683\n",
      "Portfolio summary\n",
      "Transaction fee: 0.004\n",
      "Start amount: 1000\n",
      "Final amount: 2717.4473061577132\n",
      "Earnings : 1717.45\n",
      "Profit : 171.74%\n",
      "Decision points: 380\n",
      "Decisions made : 139, buy: 69 sell: 69\n"
     ]
    }
   ],
   "source": [
    "port.simulate(sample.iloc[:400, :4], 20)"
   ]
  },
  {
   "cell_type": "code",
   "execution_count": 226,
   "metadata": {},
   "outputs": [
    {
     "data": {
      "image/png": "[encoded data removed]",
      "text/plain": [
       "<Figure size 432x288 with 1 Axes>"
      ]
     },
     "metadata": {},
     "output_type": "display_data"
    }
   ],
   "source": [
    "plt.plot(port.y)\n",
    "plt.plot(port.y_hat, color='orange')\n",
    "plt.show()"
   ]
  },
  {
   "cell_type": "code",
   "execution_count": 227,
   "metadata": {},
   "outputs": [
    {
     "data": {
      "image/png": "[encoded data removed]",
      "text/plain": [
       "<Figure size 432x288 with 1 Axes>"
      ]
     },
     "metadata": {},
     "output_type": "display_data"
    },
    {
     "data": {
      "image/png": "[encoded data removed]",
      "text/plain": [
       "<Figure size 432x288 with 1 Axes>"
      ]
     },
     "metadata": {},
     "output_type": "display_data"
    }
   ],
   "source": [
    "port.plot_history()"
   ]
  },
  {
   "cell_type": "code",
   "execution_count": null,
   "metadata": {},
   "outputs": [],
   "source": []
  }
 ],
 "metadata": {
  "kernelspec": {
   "display_name": "Python 3",
   "language": "python",
   "name": "python3"
  },
  "language_info": {
   "codemirror_mode": {
    "name": "ipython",
    "version": 3
   },
   "file_extension": ".py",
   "mimetype": "text/x-python",
   "name": "python",
   "nbconvert_exporter": "python",
   "pygments_lexer": "ipython3",
   "version": "3.6.5"
  }
 },
 "nbformat": 4,
 "nbformat_minor": 2
}
